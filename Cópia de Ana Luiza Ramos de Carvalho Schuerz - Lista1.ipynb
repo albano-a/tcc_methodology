{
 "cells": [
  {
   "cell_type": "markdown",
   "id": "03ca099d-de04-4351-ab77-b31026ad4975",
   "metadata": {
    "id": "03ca099d-de04-4351-ab77-b31026ad4975"
   },
   "source": [
    "# Disciplina: Introdução a programação para geocientistas\n"
   ]
  },
  {
   "cell_type": "markdown",
   "id": "27c48030-4f89-4f34-a63d-01c6f5c87dbf",
   "metadata": {
    "id": "27c48030-4f89-4f34-a63d-01c6f5c87dbf"
   },
   "source": [
    "# Lista 1"
   ]
  },
  {
   "cell_type": "code",
   "execution_count": 1,
   "id": "747950eb-aace-4fac-ae1f-cbfc900f4b37",
   "metadata": {
    "executionInfo": {
     "elapsed": 1019,
     "status": "ok",
     "timestamp": 1731454072969,
     "user": {
      "displayName": "Ana Luiza Ramos de Carvalho Schuerz",
      "userId": "10352098530777583218"
     },
     "user_tz": 180
    },
    "id": "747950eb-aace-4fac-ae1f-cbfc900f4b37"
   },
   "outputs": [],
   "source": [
    "import numpy as np"
   ]
  },
  {
   "cell_type": "markdown",
   "id": "4daeacf8-c76e-469e-9ab4-90ceba30cf33",
   "metadata": {
    "id": "4daeacf8-c76e-469e-9ab4-90ceba30cf33"
   },
   "source": [
    "## 1. Media de um aluno\n",
    "\n",
    "Escreva um programa em que o usuário decida se deseja calcular a média aritmética ou a média ponderada entre 3 números. Os números também devem ser fornecidos pelo usuário. Caso o usuário decida calcular a média ponderada, ele também deve fornecer os pesos. (**NÃO** use as funções de média do Python)\n",
    "\n",
    "**Fórmula da média aritmética**\n",
    "\n",
    "$$ M_A = \\frac{x_1 + x_2 + \\dots + x_N}{N} $$\n",
    "\n",
    "**Fórmula da média ponderada**\n",
    "\n",
    "$$ M_P = \\frac{p_1 x_1 + p_2 x_2 + \\dots + p_N x_N}{p_1+p_2+\\dots+p_N} $$"
   ]
  },
  {
   "cell_type": "code",
   "execution_count": 2,
   "id": "cfa9db07-658f-416b-bdd1-a4fb7bb17bc2",
   "metadata": {
    "colab": {
     "base_uri": "https://localhost:8080/"
    },
    "executionInfo": {
     "elapsed": 25413,
     "status": "ok",
     "timestamp": 1731454173846,
     "user": {
      "displayName": "Ana Luiza Ramos de Carvalho Schuerz",
      "userId": "10352098530777583218"
     },
     "user_tz": 180
    },
    "id": "cfa9db07-658f-416b-bdd1-a4fb7bb17bc2",
    "outputId": "21e5c8d5-213a-41f6-f2d2-bc302acc48b7"
   },
   "outputs": [
    {
     "name": "stdout",
     "output_type": "stream",
     "text": [
      "nota 1: 7\n",
      "nota 2: 9.6\n",
      "nota 3: 10\n",
      "sua média simples é 8.866666666666667\n",
      "deseja fazer a média ponderada? (sim/não)não\n",
      "ok! uma nota não te define!\n"
     ]
    }
   ],
   "source": [
    "#input dos valores\n",
    "n1 = float(input(\"nota 1: \"))\n",
    "n2 = float(input(\"nota 2: \"))\n",
    "n3 = float(input(\"nota 3: \"))\n",
    "\n",
    "#média simples\n",
    "média_simples = (n1 + n2 + n3)/ 3\n",
    "print(\"sua média simples é\", média_simples)\n",
    "\n",
    "#pergunta da média ponderada\n",
    "mp= input(\"deseja fazer a média ponderada? (sim/não)\")\n",
    "if mp == \"sim\" :\n",
    "\n",
    "    #input dos pesos\n",
    "    p1= float(input(\"peso da nota 1: \"))\n",
    "    p2 = float(input(\"peso da nota 2: \"))\n",
    "    p3 = float(input(\"peso da nota 3: \"))\n",
    "\n",
    "    #cálculo dos pesos\n",
    "    pesos = p1 + p2 + p3\n",
    "\n",
    "    #notas\n",
    "    nota1 = n1 * p1\n",
    "    nota2 = n2 * p2\n",
    "    nota3 = n3 * p3\n",
    "\n",
    "    #soma das notas\n",
    "    soma = nota1 + nota2 + nota3\n",
    "\n",
    "    #resultado\n",
    "    média_ponderada = soma / pesos\n",
    "    print(\"sua média ponderada é\", média_ponderada)\n",
    "    if média_ponderada < 7:\n",
    "        print(\"tente mais uma vez, nunca desista!\")\n",
    "    else:\n",
    "        print(\"você arrasou!\")\n",
    "\n",
    "else:\n",
    "    print(\"ok! uma nota não te define!\")"
   ]
  },
  {
   "cell_type": "markdown",
   "id": "743c9c7f-0b0a-460f-b616-b3fd5b876af4",
   "metadata": {
    "id": "743c9c7f-0b0a-460f-b616-b3fd5b876af4"
   },
   "source": [
    "## 2. Distância até o fundo marinho (1 ponto\n",
    "\n",
    "Suponha que uma onda sísmica se propaga a uma velocidade de **1500 m\\s** na água e demora **6 segundos** para ser captada pelo receptor após ser emitida pela fonte. Faça um código que calcule a espessura da lâmina d'água."
   ]
  },
  {
   "cell_type": "code",
   "execution_count": null,
   "id": "c8e91d35-727a-4733-b8e6-3c3aab77cf38",
   "metadata": {
    "colab": {
     "base_uri": "https://localhost:8080/"
    },
    "executionInfo": {
     "elapsed": 564,
     "status": "ok",
     "timestamp": 1731438948681,
     "user": {
      "displayName": "Ana Luiza Ramos de Carvalho Schuerz",
      "userId": "10352098530777583218"
     },
     "user_tz": 180
    },
    "id": "c8e91d35-727a-4733-b8e6-3c3aab77cf38",
    "outputId": "216f49ab-4404-4fed-efd2-3948e02652b4"
   },
   "outputs": [
    {
     "name": "stdout",
     "output_type": "stream",
     "text": [
      "500.0\n"
     ]
    }
   ],
   "source": [
    "#definindo os valores\n",
    "v = 1500\n",
    "t = 6\n",
    "#calculando\n",
    "e = (v * 2)/t\n",
    "print(e)"
   ]
  },
  {
   "cell_type": "code",
   "execution_count": null,
   "id": "b3fa187f-69af-40b8-b028-cbfe99bffc60",
   "metadata": {
    "colab": {
     "base_uri": "https://localhost:8080/"
    },
    "executionInfo": {
     "elapsed": 9265,
     "status": "ok",
     "timestamp": 1731439146945,
     "user": {
      "displayName": "Ana Luiza Ramos de Carvalho Schuerz",
      "userId": "10352098530777583218"
     },
     "user_tz": 180
    },
    "id": "b3fa187f-69af-40b8-b028-cbfe99bffc60",
    "outputId": "bcf2f730-dff9-42a1-8596-4c6208af26b1"
   },
   "outputs": [
    {
     "name": "stdout",
     "output_type": "stream",
     "text": [
      "velocidade1500\n",
      "em quanto tempo?6\n",
      "500.0\n"
     ]
    }
   ],
   "source": [
    "#com input ;)\n",
    "velocidade = float(input(\"velocidade\"))\n",
    "tempo = float(input(\"em quanto tempo?\"))\n",
    "#calculando\n",
    "espessura = (velocidade * 2)/ tempo\n",
    "print(espessura)"
   ]
  },
  {
   "cell_type": "markdown",
   "id": "4bb51732-00c1-4357-b87e-39af8fe9041d",
   "metadata": {
    "id": "4bb51732-00c1-4357-b87e-39af8fe9041d"
   },
   "source": [
    "## 3. Volume de um dique (1 ponto)\n",
    "   \n",
    "Ao realizar um levantamento sísmico de uma região, identificou-se um corpo ígneo de formato similar a um cilindro. Usando `π = np.pi`, calcule o volume desse corpo em metros cúbicos, sabendo que ele possui 1km de comprimento e 50 metros de diâmetro. Utilize a fórmula do volume de um cilindro.\n"
   ]
  },
  {
   "cell_type": "code",
   "execution_count": null,
   "id": "fad68943-fac7-4369-91e9-880516485139",
   "metadata": {
    "colab": {
     "base_uri": "https://localhost:8080/"
    },
    "executionInfo": {
     "elapsed": 258,
     "status": "ok",
     "timestamp": 1731418463611,
     "user": {
      "displayName": "Ana Luiza Ramos de Carvalho Schuerz",
      "userId": "10352098530777583218"
     },
     "user_tz": 180
    },
    "id": "fad68943-fac7-4369-91e9-880516485139",
    "outputId": "65fff603-9dc8-4a21-bc03-01db21736498"
   },
   "outputs": [
    {
     "data": {
      "text/plain": [
       "1963495.4084936208"
      ]
     },
     "execution_count": 17,
     "metadata": {},
     "output_type": "execute_result"
    }
   ],
   "source": [
    " #definindo as variáveis:\n",
    "comp = 1\n",
    "diam = 50\n",
    "\n",
    "#comprimento em metros:\n",
    "comp_em_m = comp * 1000\n",
    "\n",
    "#transformando diâmetro em raio:\n",
    "raio = diam / 2\n",
    "\n",
    "#aplicando a fórmula do volume do cilindro:\n",
    "volume = (np.pi * (raio** 2) * comp_em_m)\n",
    "volume"
   ]
  },
  {
   "cell_type": "code",
   "execution_count": null,
   "id": "7c0492c3-50ab-4453-a1b0-0d30defbacd5",
   "metadata": {
    "colab": {
     "base_uri": "https://localhost:8080/"
    },
    "executionInfo": {
     "elapsed": 6232,
     "status": "ok",
     "timestamp": 1731418110351,
     "user": {
      "displayName": "Ana Luiza Ramos de Carvalho Schuerz",
      "userId": "10352098530777583218"
     },
     "user_tz": 180
    },
    "id": "7c0492c3-50ab-4453-a1b0-0d30defbacd5",
    "outputId": "85d10727-f20f-471b-d122-bc84b378b994"
   },
   "outputs": [
    {
     "name": "stdout",
     "output_type": "stream",
     "text": [
      "comprimento em km: 1\n",
      "diâmetro em metros: 50\n"
     ]
    },
    {
     "data": {
      "text/plain": [
       "1963495.4084936208"
      ]
     },
     "execution_count": 7,
     "metadata": {},
     "output_type": "execute_result"
    }
   ],
   "source": [
    "#volume do cilindro com input :))\n",
    "c = float(input(\"comprimento em km: \"))\n",
    "d = float(input(\"diâmetro em metros: \"))\n",
    "\n",
    "#tranformando km em m\n",
    "m = c * 1000\n",
    "\n",
    "# transformando diâmetro em raio\n",
    "r = d / 2\n",
    "\n",
    "# aplicando a fórmula do volume do cilindro\n",
    "v = (np.pi * (r**2) * m)\n",
    "v"
   ]
  },
  {
   "cell_type": "markdown",
   "id": "54bb2203-c29c-4863-9303-ff3394c44c41",
   "metadata": {
    "id": "54bb2203-c29c-4863-9303-ff3394c44c41"
   },
   "source": [
    "## 4. Anomalias (1 ponto)\n",
    "\n",
    "O método do caminhamento elétrico serve para medir a resistividade das rochas em subsuperfície. Uma equipe de geofísicos de um certo levantamento anotou as medições ao longo de uma linha em uma lista. Crie uma ou mais novas listas que recebam **apenas** os valores anômalos do levantamento.\n"
   ]
  },
  {
   "cell_type": "code",
   "execution_count": null,
   "id": "50efde4c-70b7-4f66-a92b-77118c7aa6e0",
   "metadata": {
    "colab": {
     "base_uri": "https://localhost:8080/"
    },
    "executionInfo": {
     "elapsed": 203,
     "status": "ok",
     "timestamp": 1731440001391,
     "user": {
      "displayName": "Ana Luiza Ramos de Carvalho Schuerz",
      "userId": "10352098530777583218"
     },
     "user_tz": 180
    },
    "id": "50efde4c-70b7-4f66-a92b-77118c7aa6e0",
    "outputId": "6f0a764d-02f9-441d-ab92-2fd7b47f5252"
   },
   "outputs": [
    {
     "name": "stdout",
     "output_type": "stream",
     "text": [
      "[10, 13, 15, 12, 13, 11, 13, 14, 8, 9, 10]\n"
     ]
    }
   ],
   "source": [
    "#definindo limite da anomalia\n",
    "anomalia = [10, 13, 15, 17, 12, 13, 300, 542, 250, 11, 13, 14, 413, 750, 8, 9, 10]\n",
    "lim = 17\n",
    "anom_reg = []#nova lista\n",
    "for anomalias in anomalia:\n",
    "    if anomalias < lim:\n",
    "        anom_reg.append(anomalias)\n",
    "print(anom_reg)"
   ]
  },
  {
   "cell_type": "markdown",
   "id": "97c70b2c-2751-4890-9a10-3f53d3d05cb9",
   "metadata": {
    "id": "97c70b2c-2751-4890-9a10-3f53d3d05cb9"
   },
   "source": [
    "## 5. Resistividade do fluido Parte 1  (1 ponto)\n",
    "\n",
    "Sabemos que a água é um fluido bastante condutivo e que pode ser encontrado nas operações geológicas de poços. Suponha que a lista abaixo refere-se a resistividade medida ao longo da profundidade de um poço e que essas medidas são diretamente relacionáveis ao fluido contido na formação. Assumindo que a água pode gerar respostas de resistividade de até no máximo 2 ohm, faça um algoritmo que percorra essa lista e recorte as medidas que indicam o conteúdo de óleo no reservatório, armazenando as medidas em uma nova lista.\n",
    "\n",
    "`medidas = [2, 0.1, 0.2, 0.5, 1, 2, 500, 750, 1000, 600, 1, 0.4, 10, 100, 150, 0.2, 0.1, 1]`\n"
   ]
  },
  {
   "cell_type": "code",
   "execution_count": 14,
   "id": "4db4614f-4c9c-42dc-8e50-c935c7cbdef5",
   "metadata": {
    "colab": {
     "base_uri": "https://localhost:8080/"
    },
    "executionInfo": {
     "elapsed": 486,
     "status": "ok",
     "timestamp": 1731455261605,
     "user": {
      "displayName": "Ana Luiza Ramos de Carvalho Schuerz",
      "userId": "10352098530777583218"
     },
     "user_tz": 180
    },
    "id": "4db4614f-4c9c-42dc-8e50-c935c7cbdef5",
    "outputId": "3d44837d-74e5-4178-b667-0afa3dd18ddf"
   },
   "outputs": [
    {
     "name": "stdout",
     "output_type": "stream",
     "text": [
      "[2, 0.1, 0.2, 0.5, 1, 2, 1, 0.4, 0.2, 0.1, 1]\n"
     ]
    }
   ],
   "source": [
    "#definindo o limite da anomalia\n",
    "medidas = [2, 0.1, 0.2, 0.5, 1, 2, 500, 750, 1000, 600, 1, 0.4, 10, 100, 150, 0.2, 0.1, 1]\n",
    "max = 3\n",
    "agua = [] #nova lista\n",
    "for medida in medidas:\n",
    "    if medida < max:\n",
    "        agua.append(medida)\n",
    "print(agua)"
   ]
  },
  {
   "cell_type": "code",
   "execution_count": null,
   "id": "fe30e53d-db86-4a64-80d6-01afcc830d0c",
   "metadata": {
    "id": "fe30e53d-db86-4a64-80d6-01afcc830d0c"
   },
   "outputs": [],
   "source": []
  },
  {
   "cell_type": "markdown",
   "id": "baa027f1-1531-4d1a-a656-04bf2bd39b63",
   "metadata": {
    "id": "baa027f1-1531-4d1a-a656-04bf2bd39b63"
   },
   "source": [
    "## 6. Resistividade do fluido Parte 2 (1 ponto)\n",
    "\n",
    "Utilizando as mesmas medidas da questão anterior, faça um único algoritmo utilizando `for`, que percorra a lista e imprima se cada medida refere-se a um conteúdo de água ou óleo.\n"
   ]
  },
  {
   "cell_type": "code",
   "execution_count": 13,
   "id": "1ba7875b-0141-4755-8c11-b99f2e7ed076",
   "metadata": {
    "colab": {
     "base_uri": "https://localhost:8080/"
    },
    "executionInfo": {
     "elapsed": 506,
     "status": "ok",
     "timestamp": 1731455240035,
     "user": {
      "displayName": "Ana Luiza Ramos de Carvalho Schuerz",
      "userId": "10352098530777583218"
     },
     "user_tz": 180
    },
    "id": "1ba7875b-0141-4755-8c11-b99f2e7ed076",
    "outputId": "8b5ebb4d-cf29-4764-d09c-2603d9e8d08c"
   },
   "outputs": [
    {
     "name": "stdout",
     "output_type": "stream",
     "text": [
      "2 - oleo\n",
      "0.1 - oleo\n",
      "0.2 - oleo\n",
      "0.5 - oleo\n",
      "1 - oleo\n",
      "2 - oleo\n",
      "500 - água\n",
      "750 - água\n",
      "1000 - água\n",
      "600 - água\n",
      "1 - oleo\n",
      "0.4 - oleo\n",
      "10 - água\n",
      "100 - água\n",
      "150 - água\n",
      "0.2 - oleo\n",
      "0.1 - oleo\n",
      "1 - oleo\n"
     ]
    }
   ],
   "source": [
    "medidas = [2, 0.1, 0.2, 0.5, 1, 2, 500, 750, 1000, 600, 1, 0.4, 10, 100, 150, 0.2, 0.1, 1]\n",
    "\n",
    "for medida in medidas:\n",
    "    if medida < 3:\n",
    "        print(medida ,\"- óleo\")\n",
    "    else:\n",
    "        print(medida ,\"- água\")"
   ]
  },
  {
   "cell_type": "markdown",
   "id": "b812e5bf-4c02-48ba-94db-eb9331b83348",
   "metadata": {
    "id": "b812e5bf-4c02-48ba-94db-eb9331b83348"
   },
   "source": [
    "## 7. Composição Mineralógica  (1 ponto)\n",
    "\n",
    "\n",
    "Sabe-se minerais são compostos sólidos e homogêneos formados naturalmente a partir de processos inorgânicos. Eles estão presentes no interior do planeta Terra e na litosfera. Desenvolva um código que pergunte se o usuário deseja criar uma lista com quaisquer minerais e que guarde-os em uma lista. No final, seu código deve imprimir uma lista com ao menos 3 minerais uma única vez."
   ]
  },
  {
   "cell_type": "code",
   "execution_count": null,
   "id": "56657843-b045-48aa-affd-5ada928b2927",
   "metadata": {
    "colab": {
     "base_uri": "https://localhost:8080/"
    },
    "executionInfo": {
     "elapsed": 3261,
     "status": "ok",
     "timestamp": 1731441923798,
     "user": {
      "displayName": "Ana Luiza Ramos de Carvalho Schuerz",
      "userId": "10352098530777583218"
     },
     "user_tz": 180
    },
    "id": "56657843-b045-48aa-affd-5ada928b2927",
    "outputId": "0949debb-a7a6-4737-f46c-281823e84c17"
   },
   "outputs": [
    {
     "name": "stdout",
     "output_type": "stream",
     "text": [
      "desja criar uma lista com minerais? (sim/não)não\n",
      "ok então\n"
     ]
    }
   ],
   "source": [
    "pergunta = input(\"desja criar uma lista com minerais? (sim/não)\")\n",
    "if pergunta == \"sim\":\n",
    "    #lista vazia\n",
    "    minerais = []\n",
    "    #primeiro item da lista\n",
    "    mineral_1 = input(\"me diga um mineral: \")\n",
    "    minerais.append(mineral_1)\n",
    "    #segundo item da lista\n",
    "    mineral_2 = input(\"me diga mais um mineral: \")\n",
    "    minerais.append(mineral_2)\n",
    "    #terceiro mineral\n",
    "    mineral_3 = input(\"me diga mais um mineral: \")\n",
    "    minerais.append(mineral_3)\n",
    "    print(minerais)\n",
    "    pergunta2 = input(\"deseja adicionar mais um? (sim/não)\")\n",
    "    if pergunta2 == \"sim\":\n",
    "        mineral_4 = input(\"me diga mais um mineral: \")\n",
    "        minerais.append(mineral_4)\n",
    "    else:\n",
    "        print(\"ok, esses são seus minerais\")\n",
    "\n",
    "else:\n",
    "    print(\"ok então\")"
   ]
  },
  {
   "cell_type": "markdown",
   "id": "ececb916-80e6-44ec-86fd-1f3343dfe2c3",
   "metadata": {
    "id": "ececb916-80e6-44ec-86fd-1f3343dfe2c3"
   },
   "source": [
    "## 8. Magnitude de um terremoto (1 ponto)\n",
    "\n",
    "A tabela a seguir contém intervalos de magnitudes de terremoto na escala Richter e suas categorias.\n",
    "\n",
    "|   Magnitude         |  Categoria    |\n",
    "|---------------------|---------------|\n",
    "|  Menor que 2.0      |    Micro      |\n",
    "|  Entre 2.0 e 2.9    | Muito pequeno |\n",
    "|  Entre 3.0 e 3.9    |  Pequeno      |\n",
    "|  Entre 4.0 e 4.9    |  Ligeiro      |\n",
    "|  Entre 5.0 e 5.9    |  Moderado     |\n",
    "|  Entre 6.0 e 6.9    |     Forte     |\n",
    "|  Entre 7.0 e 7.9    |    Grande     |\n",
    "|  Entre 8.0 e 8.9    | Importante    |\n",
    "|  Entre 9.0 e 9.9    |  Excepcional  |\n",
    "|  Maior que 10.0     |    Extremo    |\n",
    "\n",
    "Escreva um programa que leia uma magnitude fornecida pelo usuário e exiba a categoria apropriada como parte de uma mensagem significativa.\n",
    "Por exemplo, se o usuário digitar 5.5 então o programa deve indicar que um sismo de magnitude 5.5 é considerado como um terremoto moderado."
   ]
  },
  {
   "cell_type": "code",
   "execution_count": 24,
   "id": "9b2d35a7-8870-49e9-8bdc-77863cd3b062",
   "metadata": {
    "colab": {
     "base_uri": "https://localhost:8080/",
     "height": 159
    },
    "executionInfo": {
     "elapsed": 420,
     "status": "error",
     "timestamp": 1731457055599,
     "user": {
      "displayName": "Ana Luiza Ramos de Carvalho Schuerz",
      "userId": "10352098530777583218"
     },
     "user_tz": 180
    },
    "id": "9b2d35a7-8870-49e9-8bdc-77863cd3b062",
    "outputId": "b165de68-d8e3-4e6a-ecc6-67534a1d7453"
   },
   "outputs": [
    {
     "ename": "TypeError",
     "evalue": "'float' object cannot be interpreted as an integer",
     "output_type": "error",
     "traceback": [
      "\u001b[0;31m---------------------------------------------------------------------------\u001b[0m",
      "\u001b[0;31mTypeError\u001b[0m                                 Traceback (most recent call last)",
      "\u001b[0;32m<ipython-input-24-75767cdb15fa>\u001b[0m in \u001b[0;36m<cell line: 1>\u001b[0;34m()\u001b[0m\n\u001b[0;32m----> 1\u001b[0;31m \u001b[0mfloat\u001b[0m\u001b[0;34m(\u001b[0m\u001b[0mrange\u001b[0m\u001b[0;34m(\u001b[0m\u001b[0;36m9.0\u001b[0m \u001b[0;34m,\u001b[0m \u001b[0;36m9.9\u001b[0m\u001b[0;34m)\u001b[0m\u001b[0;34m)\u001b[0m\u001b[0;34m\u001b[0m\u001b[0;34m\u001b[0m\u001b[0m\n\u001b[0m\u001b[1;32m      2\u001b[0m \u001b[0;34m\u001b[0m\u001b[0m\n",
      "\u001b[0;31mTypeError\u001b[0m: 'float' object cannot be interpreted as an integer"
     ]
    }
   ],
   "source": [
    "magnitude = float(input(\"Qual a magnitude?\"))\n"
   ]
  },
  {
   "cell_type": "code",
   "execution_count": null,
   "id": "d518c4d6-7e14-4dc5-ad2a-bca718a37c9e",
   "metadata": {
    "id": "d518c4d6-7e14-4dc5-ad2a-bca718a37c9e"
   },
   "outputs": [],
   "source": []
  },
  {
   "cell_type": "markdown",
   "id": "2a4f7b4d-a486-4a6b-b298-964752691722",
   "metadata": {
    "id": "2a4f7b4d-a486-4a6b-b298-964752691722"
   },
   "source": [
    "## 9. Quiz Time  (2 pontos)\n",
    "\n",
    "Monte um jogo de perguntas e respostas relacionadas a geofísica onde cada acerto vale 1 ponto. No final, seu Quiz deve ter ao menos 3 perguntas e o programa deve retornar a pontuação total obtida pelo usuário."
   ]
  },
  {
   "cell_type": "code",
   "execution_count": 2,
   "id": "3f830e69-2d81-48f8-834e-0843bc57e8aa",
   "metadata": {
    "id": "3f830e69-2d81-48f8-834e-0843bc57e8aa"
   },
   "outputs": [
    {
     "name": "stdout",
     "output_type": "stream",
     "text": [
      "Bem-vindo ao jogo de perguntas e respostas!\n",
      "\n",
      "Errou\n",
      "Você terminou o quiz com 2 pontos.\n"
     ]
    }
   ],
   "source": [
    "print(\"Bem-vindo ao jogo de perguntas e respostas!\")\n",
    "print()\n",
    "\n",
    "pontos = 0\n",
    "jogando = True\n",
    "\n",
    "while jogando:\n",
    "    p1 = input(\n",
    "        \"\"\"\n",
    "        O que é sismologia e qual é o principal objetivo dessa área da Geofísica?\\n\n",
    "        A) Estudo dos movimentos da água subterrânea\n",
    "        B) Estudo das rochas sedimentares\n",
    "        C) Estudo das ondas sísmicas geradas por terremotos\n",
    "        D) Estudo dos campos magnéticos terrestres.\n",
    "        \"\"\"\n",
    "    )\n",
    "    if p1 == \"C\":\n",
    "        pontos += 1\n",
    "    else:\n",
    "        print(\"Errou\")\n",
    "        jogando = False\n",
    "\n",
    "    p2 = input(\n",
    "        \"\"\"\n",
    "        Qual é a camada mais externa da Terra?\\n\n",
    "        A) Manto\n",
    "        B) Núcleo\n",
    "        C) Crosta\n",
    "        D) Litosfera\n",
    "        \"\"\"\n",
    "    )\n",
    "    if p2 == \"C\":\n",
    "        pontos += 1\n",
    "    else:\n",
    "        print(\"Errou\")\n",
    "        jogando = False\n",
    "\n",
    "    p3 = input(\n",
    "        \"\"\"\n",
    "        O que é \"gravidade\" em termos de geofísica?\\n\n",
    "        A) A força que mantém os oceanos em movimento.\n",
    "        B) A força que atrai objetos para o centro da Terra.\n",
    "        C) O movimento das placas tectônicas.\n",
    "        D) A resistência do solo ao movimento sísmico.\n",
    "        \"\"\"\n",
    "    )\n",
    "    if p3 == \"B\":\n",
    "        pontos += 1\n",
    "    else:\n",
    "        print(\"Errou\")\n",
    "        jogando = False\n",
    "\n",
    "    jogando = False\n",
    "\n",
    "print(f\"Você terminou o quiz com {pontos} pontos.\")"
   ]
  },
  {
   "cell_type": "code",
   "execution_count": null,
   "id": "e9746d92-db81-480c-9eb0-13aa6857b3a1",
   "metadata": {
    "id": "e9746d92-db81-480c-9eb0-13aa6857b3a1"
   },
   "outputs": [],
   "source": []
  },
  {
   "cell_type": "code",
   "execution_count": null,
   "id": "a67529aa-4ee4-4b85-9047-fe72843abfbf",
   "metadata": {
    "id": "a67529aa-4ee4-4b85-9047-fe72843abfbf"
   },
   "outputs": [],
   "source": []
  },
  {
   "cell_type": "code",
   "execution_count": null,
   "id": "588a0283-dc71-40ae-a992-88d1dec13818",
   "metadata": {
    "id": "588a0283-dc71-40ae-a992-88d1dec13818"
   },
   "outputs": [],
   "source": []
  }
 ],
 "metadata": {
  "colab": {
   "provenance": [
    {
     "file_id": "1yS1hRRxS21Rda_PhrYeGuVX2cuL4j2Ki",
     "timestamp": 1731457457253
    }
   ]
  },
  "kernelspec": {
   "display_name": "Python 3",
   "language": "python",
   "name": "python3"
  },
  "language_info": {
   "codemirror_mode": {
    "name": "ipython",
    "version": 3
   },
   "file_extension": ".py",
   "mimetype": "text/x-python",
   "name": "python",
   "nbconvert_exporter": "python",
   "pygments_lexer": "ipython3",
   "version": "3.13.0"
  }
 },
 "nbformat": 4,
 "nbformat_minor": 5
}
